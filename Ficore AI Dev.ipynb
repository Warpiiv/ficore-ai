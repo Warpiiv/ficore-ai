# Ficore AI MVP - Complete Code
# This notebook contains the pipeline for processing financial data, calculating health scores,
# sending emails, and updating Google Sheets for local development and testing.

# --- Import Libraries ---
import os
import pandas as pd
import smtplib
import numpy as np
import time
import json
from email.mime.text import MIMEText
from email.mime.multipart import MIMEMultipart
from google.oauth2 import service_account
from googleapiclient.discovery import build
from dotenv import load_dotenv

# --- Configuration ---
# Define constants for Google Sheets and email feedback
SCOPES = ['https://www.googleapis.com/auth/spreadsheets']  # Scope for Google Sheets API access
SPREADSHEET_ID = '13hbiMTMRBHo9MHjWwcugngY_aSiuxII67HCf03MiZ8I'  # Your Google Sheet ID
DATA_RANGE_NAME = 'Sheet1!A1:K'  # Range to fetch data from Sheet1 (columns A to K)
RESULTS_SHEET_NAME = 'FicoreAIResults'  # Name of the sheet to store results
RESULTS_HEADER = ['Email', 'FicoreAIScore', 'FicoreAIRank']  # Headers for the results sheet
FEEDBACK_FORM_URL = 'https://forms.gle/ficoreai-feedback'  # URL for user feedback form

# --- Authentication Function ---
def authenticate_google_sheets():
    """
    Authenticate with Google Sheets API using a service account.
    Loads credentials from a local JSON key file (or optionally from an environment variable).
    Returns a Google Sheets API service object.
    """
    try:
        # Option 1: Load credentials from a local JSON key file (recommended for local development)
        JSON_KEY_FILE = 'credentials.json'  # Path to your service account JSON key file
        creds_info = None
        if os.path.exists(JSON_KEY_FILE):
            with open(JSON_KEY_FILE, 'r') as f:
                creds_info = json.load(f)
        else:
            raise FileNotFoundError(f"Service account JSON key file '{JSON_KEY_FILE}' not found.")

        # Option 2: Load credentials from environment variable (uncomment if preferred)
        # creds_json = os.environ.get('GOOGLE_CREDENTIALS_JSON')
        # if not creds_json:
        #     raise Exception("GOOGLE_CREDENTIALS_JSON environment variable not set.")
        # creds_info = json.loads(creds_json)

        # Create credentials object and build the service
        creds = service_account.Credentials.from_service_account_info(creds_info, scopes=SCOPES)
        service = build('sheets', 'v4', credentials=creds)
        print("Successfully authenticated with Google Sheets using service account.")
        return service
    except json.JSONDecodeError as e:
        print(f"Error decoding service account credentials: {str(e)}")
        return None
    except Exception as e:
        print(f"Error authenticating with Google Sheets: {str(e)}")
        return None

# --- Fetch Data from Google Sheet ---
def fetch_data_from_sheet():
    """
    Fetch data from Sheet1 in the specified Google Sheet.
    Returns the data as a list of lists (including headers) or None if an error occurs.
    """
    try:
        service = authenticate_google_sheets()
        if not service:
            raise Exception("Google Sheets authentication failed.")
        sheet = service.spreadsheets()
        result = sheet.values().get(spreadsheetId=SPREADSHEET_ID, range=DATA_RANGE_NAME).execute()
        values = result.get('values', [])
        if not values:
            print('No data found in Sheet1.')
            return None
        print(f"Fetched {len(values) - 1} rows from Sheet1 (excluding header).")
        return values
    except Exception as e:
        print(f'Error fetching data from Google Sheet (Sheet1): {str(e)}')
        return None

# --- Calculate Financial Health Score ---
def calculate_health_score(df):
    """
    Calculate the Financial Health Score for each row in the DataFrame.
    Adds columns for HealthScore, CashFlowRatio, DebtToIncomeRatio, DebtInterestBurden, and ScoreDescription.
    Returns the updated DataFrame.
    """
    try:
        # Initialize HealthScore column
        df['HealthScore'] = 0.0

        # Avoid division by zero by replacing zero income with a small value
        df['IncomeRevenueSafe'] = df['IncomeRevenue'].replace(0, 1e-10)

        # Calculate financial ratios
        df['CashFlowRatio'] = (df['IncomeRevenue'] - df['ExpensesCosts']) / df['IncomeRevenueSafe']
        df['DebtToIncomeRatio'] = df['DebtLoan'] / df['IncomeRevenueSafe']
        df['DebtInterestBurden'] = df['DebtInterestRate'].clip(lower=0) / 20  # Normalize interest rate (max 20%)
        df['DebtInterestBurden'] = df['DebtInterestBurden'].clip(upper=1)  # Cap at 1

        # Normalize ratios to a 0-1 scale
        df['NormCashFlow'] = df['CashFlowRatio'].clip(0, 1)
        df['NormDebtToIncome'] = 1 - df['DebtToIncomeRatio'].clip(0, 1)
        df['NormDebtInterest'] = 1 - df['DebtInterestBurden']

        # Calculate final HealthScore (weighted average of the three normalized factors)
        df['HealthScore'] = (df['NormCashFlow'] * 0.333 +
                            df['NormDebtToIncome'] * 0.333 +
                            df['NormDebtInterest'] * 0.333) * 100
        df['HealthScore'] = df['HealthScore'].round(2)

        # Define a function to generate advice based on the score and ratios
        def score_description(row):
            score = row['HealthScore']
            cash_flow = row['CashFlowRatio']
            debt_to_income = row['DebtToIncomeRatio']
            debt_interest = row['DebtInterestBurden']
            if score >= 75:
                return 'Stable; invest excess now'
            elif score >= 50:
                if cash_flow < 0.3 or debt_interest > 0.5:
                    return 'At Risk; manage expense'
                return 'Moderate; save monthly'
            elif score >= 25:
                if debt_to_income > 0.5 or debt_interest > 0.5:
                    return 'At Risk; pay off debt, manage expense'
                return 'At Risk; manage expense'
            else:
                if debt_to_income > 0.5 or cash_flow < 0.3:
                    return 'Critical; add source of income, pay off debt, manage expense'
                return 'Critical; seek financial help'

        # Apply the score description to each row
        df['ScoreDescription'] = df.apply(score_description, axis=1)
        return df
    except Exception as e:
        print(f'Error calculating HealthScore: {str(e)}')
        return df

# --- Send Email with Financial Health Score ---
def send_email(to_email, first_name, last_name, rank, timestamp, health_score, score_description, cash_flow_ratio, debt_to_income_ratio, debt_interest_burden, server):
    """
    Sends a personalized email with the Financial Health Score, a breakdown of the score, and advice.
    Uses an existing SMTP server connection to send the email.
    """
    max_retries = 3
    retry_delay = 5  # seconds
    full_name = f"{first_name} {last_name}".strip()

    # Format the breakdown metrics as percentages
    cash_flow_score = round(cash_flow_ratio * 100, 2)
    debt_to_income_score = round((1 - debt_to_income_ratio) * 100, 2)
    debt_interest_score = round((1 - debt_interest_burden) * 100, 2)

    # Determine status for each metric
    def get_status(score):
        if score >= 75:
            return "Excellent"
        elif score >= 50:
            return "Good"
        elif score >= 25:
            return "Needs Attention"
        else:
            return "Critical"

    cash_flow_status = get_status(cash_flow_score)
    debt_to_income_status = get_status(debt_to_income_score)
    debt_interest_status = get_status(debt_interest_score)

    for attempt in range(max_retries):
        try:
            msg = MIMEMultipart()
            msg['From'] = server.user
            msg['To'] = to_email
            msg['Subject'] = f"Ficore AI: Your Financial Health Score, {full_name}"
            html = f"""
            <html>
                <body style="font-family: Arial, sans-serif; color: #333;">
                    <div style="text-align: center;">
                        <img src="https://www.freepik.com/free-photos-vectors/personal-finance-logo" alt="Ficore AI Logo" style="width: 150px; margin-bottom: 20px;" />
                    </div>
                    <h2 style="color: #2c3e50; text-align: center;">Ficore AI Financial Health Score</h2>
                    <p>Hi {first_name},</p>
                    <p>We’re excited to share your Ficore AI Financial Health Score! This score reflects your financial strength based on three key factors: your cash flow, debt-to-income ratio, and debt interest burden. Let’s break it down for you.</p>
                    <h3 style="color: #2c3e50;">Your Financial Health Overview</h3>
                    <table style="border-collapse: collapse; width: 100%; max-width: 600px; margin: 20px 0;">
                        <tr style="background-color: #2c3e50; color: white;">
                            <th style="border: 1px solid #ddd; padding: 8px;">Rank</th>
                            <th style="border: 1px solid #ddd; padding: 8px;">Timestamp</th>
                            <th style="border: 1px solid #ddd; padding: 8px;">Name</th>
                            <th style="border: 1px solid #ddd; padding: 8px;">Health Score</th>
                            <th style="border: 1px solid #ddd; padding: 8px;">Advice</th>
                        </tr>
                        <tr>
                            <td style="border: 1px solid #ddd; padding: 8px; text-align: center;">{rank}</td>
                            <td style="border: 1px solid #ddd; padding: 8px;">{timestamp}</td>
                            <td style="border: 1px solid #ddd; padding: 8px;">{full_name}</td>
                            <td style="border: 1px solid #ddd; padding: 8px; text-align: center;">{health_score}</td>
                            <td style="border: 1px solid #ddd; padding: 8px;">{score_description}</td>
                        </tr>
                    </table>
                    <h3 style="color: #2c3e50;">How We Calculated Your Score</h3>
                    <p>Your Financial Health Score is a combination of three factors, each contributing equally to your overall score (out of 100). Here’s how you performed in each area:</p>
                    <ul>
                        <li><strong>Cash Flow ({cash_flow_score}% - {cash_flow_status}):</strong> This measures how much money you have left after expenses. A higher percentage means you’re managing your expenses well relative to your income.</li>
                        <li><strong>Debt-to-Income Ratio ({debt_to_income_score}% - {debt_to_income_status}):</strong> This shows how much of your income goes toward debt. A higher percentage indicates you have less debt relative to your income, which is a good sign.</li>
                        <li><strong>Debt Interest Burden ({debt_interest_score}% - {debt_interest_status}):</strong> This reflects the impact of interest rates on your debt. A higher percentage means your debt interest rates are manageable.</li>
                    </ul>
                    <p>{first_name}, your score of {health_score} is a great starting point! Follow the advice above to improve your financial health. We’re here to support you every step of the way—take one small action today to grow stronger financially for your business, your goals, and your future.</p>
                    <div style="text-align: center; margin: 20px 0;">
                        <a href="https://forms.gle/ficoreai-feedback" style="background-color: #007bff; color: white; padding: 10px 20px; text-decoration: none; border-radius: 5px; display: inline-block; margin-right: 10px;">Help us improve! Share your feedback (takes 1 min)</a>
                        <a href="https://calendly.com/ficoreai" style="background-color: #28a745; color: white; padding: 10px 20px; text-decoration: none; border-radius: 5px; display: inline-block;">Book Consultation</a>
                    </div>
                    <p>Best regards,<br>Hassan<br>Ficore AI - Empowering African Financial Growth<br>Email: {server.user} | Website: ficore.com.ng (coming soon)</p>
                </body>
            </html>
            """
            msg.attach(MIMEText(html, 'html'))
            server.send_message(msg)
            print(f"Email sent successfully to {to_email} for {full_name}")
            time.sleep(1)  # Add a 1-second delay between emails to avoid rate limiting
            break  # Exit retry loop on success
        except Exception as e:
            if attempt < max_retries - 1:
                print(f"Error sending email to {to_email} for {full_name} (attempt {attempt + 1}/{max_retries}): {str(e)}. Retrying in {retry_delay} seconds...")
                time.sleep(retry_delay)
            else:
                print(f"Failed to send email to {to_email} for {full_name} after {max_retries} attempts: {str(e)}")

# --- Create or Update Results Sheet ---
def create_results_sheet():
    """
    Create the FicoreAIResults sheet in the Google Sheet if it doesn't exist.
    Sets up the headers for the results sheet.
    """
    try:
        service = authenticate_google_sheets()
        if not service:
            raise Exception("Google Sheets authentication failed.")
        spreadsheet = service.spreadsheets()
        sheets = spreadsheet.get(spreadsheetId=SPREADSHEET_ID).execute().get('sheets', [])
        sheet_names = [sheet['properties']['title'] for sheet in sheets]
        if RESULTS_SHEET_NAME not in sheet_names:
            body = {'properties': {'title': RESULTS_SHEET_NAME}}
            spreadsheet.batchUpdate(spreadsheetId=SPREADSHEET_ID, body={'requests': [{'addSheet': body}]}).execute()
            print(f"Sheet '{RESULTS_SHEET_NAME}' created.")
            header_range = f'{RESULTS_SHEET_NAME}!A1:C1'
            body = {'values': [RESULTS_HEADER]}
            spreadsheet.values().update(spreadsheetId=SPREADSHEET_ID, range=header_range, valueInputOption='USER_ENTERED', body=body).execute()
            print(f"Headers '{', '.join(RESULTS_HEADER)}' added to '{RESULTS_SHEET_NAME}'.")
        else:
            print(f"Sheet '{RESULTS_SHEET_NAME}' already exists.")
    except Exception as e:
        print(f'Error creating or setting up results sheet: {str(e)}')

# --- Write Results to Google Sheet ---
def write_results_to_sheet(df):
    """
    Write the calculated Health Scores and Ranks to the FicoreAIResults sheet.
    Clears existing data (below headers) and writes the new results.
    """
    try:
        service = authenticate_google_sheets()
        if not service:
            raise Exception("Google Sheets authentication failed.")
        spreadsheet = service.spreadsheets()
        clear_range = f'{RESULTS_SHEET_NAME}!A2:C'
        spreadsheet.values().clear(spreadsheetId=SPREADSHEET_ID, range=clear_range).execute()
        print(f"Cleared existing data in '{RESULTS_SHEET_NAME}' (below headers).")
        results_data = []
        for index, row in df[['Email', 'HealthScore', 'Rank']].iterrows():
            results_data.append([row['Email'], float(row['HealthScore']), int(row['Rank'])])
        if results_data:
            body = {'values': results_data}
            range_name = f'{RESULTS_SHEET_NAME}!A2'
            result = spreadsheet.values().update(spreadsheetId=SPREADSHEET_ID, range=range_name,
                                                valueInputOption='USER_ENTERED', body=body).execute()
            print(f"{result.get('updatedCells')} cells updated in '{RESULTS_SHEET_NAME}'.")
        else:
            print("No results to write to the sheet.")
    except Exception as e:
        print(f'Error writing results to Google Sheet ({RESULTS_SHEET_NAME}): {str(e)}')

# --- Main Pipeline to Process Financial Data ---
def process_financial_data():
    """
    Main pipeline function to process financial data from Google Sheets.
    Steps:
    1. Create the results sheet if it doesn't exist.
    2. Fetch data from Sheet1.
    3. Calculate Financial Health Scores and Ranks.
    4. Save intermediate data to CSV files for debugging.
    5. Send emails to users with their scores and advice.
    6. Write the results to the FicoreAIResults sheet.
    """
    try:
        # Step 1: Create the results sheet
        create_results_sheet()

        # Step 2: Fetch data from Google Sheet
        values = fetch_data_from_sheet()
        if not values:
            return

        # Step 3: Convert fetched data to a DataFrame
        headers = values[0]
        data = values[1:]
        max_cols = len(headers)
        data = [row + [''] * (max_cols - len(row)) for row in data]  # Pad rows to match header length
        df = pd.DataFrame(data, columns=headers)
        print('Raw DataFrame before validation:')
        print(df)

        # Step 4: Validate and preprocess the DataFrame
        required_columns = ['Timestamp', 'BusinessName', 'IncomeRevenue', 'ExpensesCosts', 'DebtLoan',
                           'DebtInterestRate', 'AutoEmail', 'FirstName', 'LastName', 'Email', 'PhoneNumber']
        # Add missing columns with default values
        if 'FirstName' not in df.columns:
            df['FirstName'] = ''
        if 'LastName' not in df.columns:
            df['LastName'] = ''
        if 'PhoneNumber' not in df.columns:
            df['PhoneNumber'] = ''
        if 'BusinessName' not in df.columns:
            df['BusinessName'] = df['FirstName'] + ' ' + df['LastName']
        df['Name'] = df['FirstName'] + ' ' + df['LastName']
        df['Name'] = df['Name'].str.strip()
        df['Name'] = df['Name'].replace('', 'Unknown User')

        # Check for missing required columns
        if not all(col in df.columns for col in required_columns):
            missing = set(required_columns) - set(df.columns)
            print(f"Missing columns: {', '.join(missing)}")
            return

        # Step 5: Clean and preprocess data
        df['ID'] = range(1, len(df) + 1)  # Add an ID column for reference
        numeric_cols = ['IncomeRevenue', 'ExpensesCosts', 'DebtLoan', 'DebtInterestRate']
        for col in numeric_cols:
            df[col] = pd.to_numeric(df[col].str.replace(',', ''), errors='coerce').fillna(0)
        df['Email'] = df['Email'].replace('', np.nan)
        df['Email'] = df['Email'].fillna(df['AutoEmail'])
        df['Email'] = df['Email'].fillna('')

        # Step 6: Save raw data to CSV for debugging
        df.to_csv('financials_df.csv', index=False)
        print('Data saved to financials_df.csv')

        # Step 7: Calculate Health Scores
        df = calculate_health_score(df)

        # Step 8: Sort by HealthScore and assign ranks
        df_sorted = df.sort_values('HealthScore', ascending=False)
        df_sorted['Rank'] = range(1, len(df_sorted) + 1)
        print('Top 5 Businesses or Individuals by Financial Health Score:')
        print(df_sorted[['Rank', 'Timestamp', 'Name', 'HealthScore', 'ScoreDescription', 'ID']].head().to_string(index=False))

        # Step 9: Save data with HealthScore to CSV
        df.to_csv('financials_with_healthscore.csv', index=False)
        print('Data with HealthScore saved to financials_with_healthscore.csv')

        # Step 10: Load email credentials from environment variables
        load_dotenv()
        sender_email = os.getenv('SENDER_EMAIL')
        sender_password = os.getenv('SENDER_PASSWORD')
        if not sender_email or not sender_password:
            print("Error: SENDER_EMAIL or SENDER_PASSWORD not found in .env file.")
            return

        # Step 11: Send emails to users
        emails_sent = 0
        server = smtplib.SMTP('smtp.gmail.com', 587)  # Use SMTP with STARTTLS on port 587
        try:
            server.starttls()  # Enable TLS
            server.login(sender_email, sender_password)
            print("SMTP connection established successfully.")
            for index, row in df_sorted.iterrows():
                email = row['Email']
                if pd.isna(email) or (isinstance(email, str) and email.strip() == ''):
                    print(f"Skipping email for {row['Name']}: No email address provided.")
                    continue
                # Pass the breakdown metrics to the email function
                send_email(
                    to_email=email,
                    first_name=row['FirstName'],
                    last_name=row['LastName'],
                    rank=row['Rank'],
                    timestamp=row['Timestamp'],
                    health_score=row['HealthScore'],
                    score_description=row['ScoreDescription'],
                    cash_flow_ratio=row['NormCashFlow'],  # Already normalized between 0 and 1
                    debt_to_income_ratio=row['DebtToIncomeRatio'],  # Raw ratio for calculation
                    debt_interest_burden=row['DebtInterestBurden'],  # Already normalized between 0 and 1
                    server=server
                )
                emails_sent += 1
        except Exception as e:
            print(f"Error in SMTP connection: {str(e)}")
        finally:
            server.quit()
            print("SMTP connection closed.")
        print(f"All emails processed. Total emails sent: {emails_sent}.")

        # Step 12: Write results to Google Sheet
        write_results_to_sheet(df_sorted[['Email', 'HealthScore', 'Rank']].copy())

    except Exception as e:
        print(f'Error in pipeline: {str(e)}')

# --- Create HTML Templates ---
# Create the ficore_templates folder if it doesn't exist
if not os.path.exists('ficore_templates'):
    os.makedirs('ficore_templates')
    print("Created 'ficore_templates' folder.")

# Write index.html with updated field names to match app.py
with open('ficore_templates/index.html', 'w', encoding='utf-8') as f:
    f.write('''<!DOCTYPE html>
<html lang="en">
<head>
    <meta charset="UTF-8">
    <meta name="viewport" content="width=device-width, initial-scale=1.0">
    <title>Ficore AI - Financial Health Score</title>
    <style>
        body {
            font-family: Arial, sans-serif;
            max-width: 800px;
            margin: 0 auto;
            padding: 20px;
            background-color: #f4f4f4;
        }
        h1 {
            text-align: center;
            color: #2c3e50;
        }
        form {
            background: white;
            padding: 20px;
            border-radius: 8px;
            box-shadow: 0 0 10px rgba(0,0,0,0.1);
        }
        label {
            display: block;
            margin: 10px 0 5px;
            font-weight: bold;
        }
        input[type="text"], input[type="email"], input[type="number"], select {
            width: 100%;
            padding: 8px;
            margin-bottom: 10px;
            border: 1px solid #ddd;
            border-radius: 4px;
            box-sizing: border-box;
        }
        input[type="submit"] {
            background-color: #28a745;
            color: white;
            padding: 10px 20px;
            border: none;
            border-radius: 4px;
            cursor: pointer;
            width: 100%;
        }
        input[type="submit"]:hover {
            background-color: #218838;
        }
    </style>
</head>
<body>
    <h1>Ficore AI - Calculate Your Financial Health Score</h1>
    <form action="/submit" method="POST">
        <label for="first_name">First Name *</label>
        <input type="text" id="first_name" name="first_name" required>

        <label for="last_name">Last Name *</label>
        <input type="text" id="last_name" name="last_name" required>

        <label for="business_name">Business Name (If no business, type your full name: FirstName LastName) *</label>
        <input type="text" id="business_name" name="business_name" required>

        <label for="phone_number">Phone Number *</label>
        <input type="text" id="phone_number" name="phone_number" required>

        <label for="income_revenue">Income/Revenue *</label>
        <input type="number" id="income_revenue" name="income_revenue" required>

        <label for="expenses_costs">Expenses/Costs *</label>
        <input type="number" id="expenses_costs" name="expenses_costs" required>

        <label for="debt_loan">Debts/Loans *</label>
        <input type="number" id="debt_loan" name="debt_loan" required>

        <label for="debt_interest_rate">Debt Interest Rate (%) *</label>
        <input type="number" id="debt_interest_rate" name="debt_interest_rate" step="0.01" required>

        <label for="auto_email">Send Results via Email?</label>
        <select id="auto_email" name="auto_email" required>
            <option value="Yes">Yes</option>
            <option value="No">No</option>
        </select>

        <label for="email">Your Email *</label>
        <input type="email" id="email" name="email" required>

        <input type="submit" value="Calculate My Financial Health Score">
    </form>
</body>
</html>
''')

# Write success.html with updated field references
with open('ficore_templates/success.html', 'w', encoding='utf-8') as f:
    f.write('''<!DOCTYPE html>
<html lang="en">
<head>
    <meta charset="UTF-8">
    <meta name="viewport" content="width=device-width, initial-scale=1.0">
    <title>Submission Successful - Ficore AI</title>
    <style>
        body {
            font-family: Arial, sans-serif;
            max-width: 800px;
            margin: 0 auto;
            padding: 20px;
            background-color: #f4f4f4;
            text-align: center;
        }
        h1 {
            color: #28a745;
        }
        p {
            color: #333;
        }
        a {
            color: #007bff;
            text-decoration: none;
        }
        a:hover {
            text-decoration: underline;
        }
    </style>
</head>
<body>
    <h1>Submission Successful!</h1>
    <p>Thank you, {{ first_name }}! Your Financial Health Score is {{ health_score }} (Rank: {{ rank }}).</p>
    <p><strong>Advice:</strong> {{ score_description }}</p>
    <p>If you chose to receive an email, you’ll get a detailed report at <strong>{{ email }}</strong> shortly.</p>
    <p><a href="/">Submit another entry</a></p>
</body>
</html>
''')

# Write error.html
with open('ficore_templates/error.html', 'w', encoding='utf-8') as f:
    f.write('''<!DOCTYPE html>
<html lang="en">
<head>
    <meta charset="UTF-8">
    <meta name="viewport" content="width=device-width, initial-scale=1.0">
    <title>Error - Ficore AI</title>
    <style>
        body {
            font-family: Arial, sans-serif;
            max-width: 800px;
            margin: 0 auto;
            padding: 20px;
            background-color: #f4f4f4;
            text-align: center;
        }
        h1 {
            color: #dc3545;
        }
        p {
            color: #333;
        }
        a {
            color: #007bff;
            text-decoration: none;
        }
        a:hover {
            text-decoration: underline;
        }
    </style>
</head>
<body>
    <h1>Oops, Something Went Wrong!</h1>
    <p>Error: {{ error_message }}</p>
    <p>Please try again or contact support if the issue persists.</p>
    <p><a href="/">Go back to the form</a></p>
</body>
</html>
''')

# --- Run the Pipeline ---
# Uncomment the following line to run the pipeline manually
# process_financial_data()
print("Pipeline defined. Run 'process_financial_data()' in a new cell to execute the pipeline.")
